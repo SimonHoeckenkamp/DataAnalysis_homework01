{
 "cells": [
  {
   "cell_type": "code",
   "execution_count": 110,
   "metadata": {},
   "outputs": [],
   "source": [
    "import pandas as pd\n",
    "import numpy as np\n",
    "import matplotlib.pyplot as plt\n",
    "import seaborn as sns\n",
    "\n",
    "import utils"
   ]
  },
  {
   "cell_type": "code",
   "execution_count": 88,
   "metadata": {},
   "outputs": [
    {
     "data": {
      "text/html": [
       "<div>\n",
       "<style scoped>\n",
       "    .dataframe tbody tr th:only-of-type {\n",
       "        vertical-align: middle;\n",
       "    }\n",
       "\n",
       "    .dataframe tbody tr th {\n",
       "        vertical-align: top;\n",
       "    }\n",
       "\n",
       "    .dataframe thead th {\n",
       "        text-align: right;\n",
       "    }\n",
       "</style>\n",
       "<table border=\"1\" class=\"dataframe\">\n",
       "  <thead>\n",
       "    <tr style=\"text-align: right;\">\n",
       "      <th></th>\n",
       "      <th>City</th>\n",
       "      <th>Mortality</th>\n",
       "      <th>JanTemp</th>\n",
       "      <th>JulyTemp</th>\n",
       "      <th>RelHum</th>\n",
       "      <th>Rain</th>\n",
       "      <th>Educ</th>\n",
       "      <th>Dens</th>\n",
       "      <th>NonWhite</th>\n",
       "      <th>WhiteCollar</th>\n",
       "      <th>Pop</th>\n",
       "      <th>House</th>\n",
       "      <th>Income</th>\n",
       "      <th>HC</th>\n",
       "      <th>NOx</th>\n",
       "      <th>SO2</th>\n",
       "    </tr>\n",
       "  </thead>\n",
       "  <tbody>\n",
       "    <tr>\n",
       "      <th>0</th>\n",
       "      <td>Akron, OH</td>\n",
       "      <td>921.87</td>\n",
       "      <td>27</td>\n",
       "      <td>71</td>\n",
       "      <td>59</td>\n",
       "      <td>36</td>\n",
       "      <td>11.4</td>\n",
       "      <td>3243</td>\n",
       "      <td>8.8</td>\n",
       "      <td>42.6</td>\n",
       "      <td>660328</td>\n",
       "      <td>3.34</td>\n",
       "      <td>29560</td>\n",
       "      <td>21</td>\n",
       "      <td>15</td>\n",
       "      <td>59</td>\n",
       "    </tr>\n",
       "    <tr>\n",
       "      <th>1</th>\n",
       "      <td>Albany-Schenectady-Troy, NY</td>\n",
       "      <td>997.87</td>\n",
       "      <td>23</td>\n",
       "      <td>72</td>\n",
       "      <td>57</td>\n",
       "      <td>35</td>\n",
       "      <td>11.0</td>\n",
       "      <td>4281</td>\n",
       "      <td>3.5</td>\n",
       "      <td>50.7</td>\n",
       "      <td>835880</td>\n",
       "      <td>3.14</td>\n",
       "      <td>31458</td>\n",
       "      <td>8</td>\n",
       "      <td>10</td>\n",
       "      <td>39</td>\n",
       "    </tr>\n",
       "    <tr>\n",
       "      <th>2</th>\n",
       "      <td>Allentown, Bethlehem,PA-NJ</td>\n",
       "      <td>962.35</td>\n",
       "      <td>29</td>\n",
       "      <td>74</td>\n",
       "      <td>54</td>\n",
       "      <td>44</td>\n",
       "      <td>9.8</td>\n",
       "      <td>4260</td>\n",
       "      <td>0.8</td>\n",
       "      <td>39.4</td>\n",
       "      <td>635481</td>\n",
       "      <td>3.21</td>\n",
       "      <td>31856</td>\n",
       "      <td>6</td>\n",
       "      <td>6</td>\n",
       "      <td>33</td>\n",
       "    </tr>\n",
       "    <tr>\n",
       "      <th>3</th>\n",
       "      <td>Atlanta, GA</td>\n",
       "      <td>982.29</td>\n",
       "      <td>45</td>\n",
       "      <td>79</td>\n",
       "      <td>56</td>\n",
       "      <td>47</td>\n",
       "      <td>11.1</td>\n",
       "      <td>3125</td>\n",
       "      <td>27.1</td>\n",
       "      <td>50.2</td>\n",
       "      <td>2138231</td>\n",
       "      <td>3.41</td>\n",
       "      <td>32452</td>\n",
       "      <td>18</td>\n",
       "      <td>8</td>\n",
       "      <td>24</td>\n",
       "    </tr>\n",
       "    <tr>\n",
       "      <th>4</th>\n",
       "      <td>Baltimore, MD</td>\n",
       "      <td>1071.29</td>\n",
       "      <td>35</td>\n",
       "      <td>77</td>\n",
       "      <td>55</td>\n",
       "      <td>43</td>\n",
       "      <td>9.6</td>\n",
       "      <td>6441</td>\n",
       "      <td>24.4</td>\n",
       "      <td>43.7</td>\n",
       "      <td>2199531</td>\n",
       "      <td>3.44</td>\n",
       "      <td>32368</td>\n",
       "      <td>43</td>\n",
       "      <td>38</td>\n",
       "      <td>206</td>\n",
       "    </tr>\n",
       "  </tbody>\n",
       "</table>\n",
       "</div>"
      ],
      "text/plain": [
       "                          City  Mortality  JanTemp  JulyTemp  RelHum  Rain  \\\n",
       "0                    Akron, OH     921.87       27        71      59    36   \n",
       "1  Albany-Schenectady-Troy, NY     997.87       23        72      57    35   \n",
       "2   Allentown, Bethlehem,PA-NJ     962.35       29        74      54    44   \n",
       "3                  Atlanta, GA     982.29       45        79      56    47   \n",
       "4                Baltimore, MD    1071.29       35        77      55    43   \n",
       "\n",
       "   Educ  Dens  NonWhite  WhiteCollar      Pop  House  Income  HC  NOx  SO2  \n",
       "0  11.4  3243       8.8         42.6   660328   3.34   29560  21   15   59  \n",
       "1  11.0  4281       3.5         50.7   835880   3.14   31458   8   10   39  \n",
       "2   9.8  4260       0.8         39.4   635481   3.21   31856   6    6   33  \n",
       "3  11.1  3125      27.1         50.2  2138231   3.41   32452  18    8   24  \n",
       "4   9.6  6441      24.4         43.7  2199531   3.44   32368  43   38  206  "
      ]
     },
     "execution_count": 88,
     "metadata": {},
     "output_type": "execute_result"
    }
   ],
   "source": [
    "df = pd.read_csv(\"../01_data/mortality.csv\")\n",
    "df.head()"
   ]
  },
  {
   "cell_type": "code",
   "execution_count": 89,
   "metadata": {},
   "outputs": [
    {
     "data": {
      "text/plain": [
       "<AxesSubplot:>"
      ]
     },
     "execution_count": 89,
     "metadata": {},
     "output_type": "execute_result"
    },
    {
     "data": {
      "image/png": "[encoded data removed]",
      "text/plain": [
       "<Figure size 432x288 with 2 Axes>"
      ]
     },
     "metadata": {
      "needs_background": "light"
     },
     "output_type": "display_data"
    }
   ],
   "source": [
    "sns.heatmap(df.corr(), cmap=\"icefire\")"
   ]
  },
  {
   "cell_type": "code",
   "execution_count": 90,
   "metadata": {},
   "outputs": [
    {
     "data": {
      "text/plain": [
       "(59, 15)"
      ]
     },
     "execution_count": 90,
     "metadata": {},
     "output_type": "execute_result"
    }
   ],
   "source": [
    "df_np = df.to_numpy()\n",
    "y = df_np[:,1]\n",
    "X = np.concatenate((np.ones((len(y), 1)), df_np[:,2:16]),axis=1)\n",
    "X.shape"
   ]
  },
  {
   "cell_type": "code",
   "execution_count": 91,
   "metadata": {},
   "outputs": [
    {
     "data": {
      "text/plain": [
       "<matplotlib.collections.PathCollection at 0x2a26bbd6548>"
      ]
     },
     "execution_count": 91,
     "metadata": {},
     "output_type": "execute_result"
    },
    {
     "data": {
      "image/png": "[encoded data removed]",
      "text/plain": [
       "<Figure size 432x288 with 1 Axes>"
      ]
     },
     "metadata": {
      "needs_background": "light"
     },
     "output_type": "display_data"
    }
   ],
   "source": [
    "plt.scatter(x=X[:,6], y=y)"
   ]
  },
  {
   "cell_type": "code",
   "execution_count": 92,
   "metadata": {},
   "outputs": [
    {
     "name": "stdout",
     "output_type": "stream",
     "text": [
      "alpha = 0.1: [-inf -inf -inf -inf -inf -inf nan -inf -inf nan -inf nan -inf -inf -inf], 24\n",
      "alpha = 0.01: [nan nan nan nan nan nan nan nan nan nan nan nan nan nan nan], 26\n",
      "alpha = 0.001: [nan nan nan nan nan nan nan nan nan nan nan nan nan nan nan], 28\n",
      "alpha = 0.0001: [-inf -inf -inf -inf -inf -inf -inf -inf -inf nan -inf nan -inf -inf -inf], 30\n",
      "alpha = 1e-05: [inf inf inf inf inf inf nan inf inf nan inf nan inf inf inf], 33\n"
     ]
    },
    {
     "name": "stderr",
     "output_type": "stream",
     "text": [
      "C:\\Users\\Simon\\projects\\dataScience\\MITx_Data_Analysis\\Homework_01\\02_code\\utils.py:23: RuntimeWarning: invalid value encountered in add\n",
      "  betas_new = betas_new + 2* step_size * (y - prediction).T.dot(X)\n"
     ]
    }
   ],
   "source": [
    "alphas = [1e-1, 1e-2, 1e-3, 1e-4, 1e-5]\n",
    "# without scaling of the variables\n",
    "for alpha in alphas:\n",
    "    print(\"alpha = {}: {}, {}\" .format(alpha, utils.gradient_descent(X, y, alpha)[0], utils.gradient_descent(X, y, alpha)[1]))"
   ]
  },
  {
   "cell_type": "code",
   "execution_count": 93,
   "metadata": {},
   "outputs": [],
   "source": [
    "y_normal = np.zeros_like(y)\n",
    "for i in range(y.shape[0]):\n",
    "    y_normal[i] = (y[i] - np.std(y))/np.mean(y)\n",
    "X_normal = np.zeros_like(X)\n",
    "for i in range(X.shape[0]):\n",
    "    for j in range(X.shape[1]):\n",
    "        X_normal[i,j] = (X[i,j] - np.std(X[:,j]))/np.mean(X[:,j])"
   ]
  },
  {
   "cell_type": "code",
   "execution_count": 136,
   "metadata": {},
   "outputs": [
    {
     "data": {
      "text/plain": [
       "<matplotlib.collections.PathCollection at 0x2a26ce98c88>"
      ]
     },
     "execution_count": 136,
     "metadata": {},
     "output_type": "execute_result"
    },
    {
     "data": {
      "image/png": "[encoded data removed]",
      "text/plain": [
       "<Figure size 432x288 with 1 Axes>"
      ]
     },
     "metadata": {
      "needs_background": "light"
     },
     "output_type": "display_data"
    }
   ],
   "source": [
    "plt.scatter(x=X_normal[:,14], y=y_normal)"
   ]
  },
  {
   "cell_type": "code",
   "execution_count": 95,
   "metadata": {},
   "outputs": [
    {
     "ename": "TypeError",
     "evalue": "No loop matching the specified signature and casting was found for ufunc inv",
     "output_type": "error",
     "traceback": [
      "\u001b[1;31m---------------------------------------------------------------------------\u001b[0m",
      "\u001b[1;31mTypeError\u001b[0m                                 Traceback (most recent call last)",
      "\u001b[1;32m<ipython-input-95-0b044b80cf32>\u001b[0m in \u001b[0;36m<module>\u001b[1;34m\u001b[0m\n\u001b[1;32m----> 1\u001b[1;33m \u001b[0mbetas\u001b[0m \u001b[1;33m=\u001b[0m \u001b[0mnp\u001b[0m\u001b[1;33m.\u001b[0m\u001b[0mlinalg\u001b[0m\u001b[1;33m.\u001b[0m\u001b[0minv\u001b[0m\u001b[1;33m(\u001b[0m\u001b[0mX_normal\u001b[0m\u001b[1;33m.\u001b[0m\u001b[0mT\u001b[0m\u001b[1;33m.\u001b[0m\u001b[0mdot\u001b[0m\u001b[1;33m(\u001b[0m\u001b[0mX_normal\u001b[0m\u001b[1;33m)\u001b[0m\u001b[1;33m)\u001b[0m\u001b[1;33m.\u001b[0m\u001b[0mdot\u001b[0m\u001b[1;33m(\u001b[0m\u001b[0mX_normal\u001b[0m\u001b[1;33m.\u001b[0m\u001b[0mT\u001b[0m\u001b[1;33m)\u001b[0m\u001b[1;33m.\u001b[0m\u001b[0mdot\u001b[0m\u001b[1;33m(\u001b[0m\u001b[0my_normal\u001b[0m\u001b[1;33m)\u001b[0m\u001b[1;33m\u001b[0m\u001b[1;33m\u001b[0m\u001b[0m\n\u001b[0m",
      "\u001b[1;32m<__array_function__ internals>\u001b[0m in \u001b[0;36minv\u001b[1;34m(*args, **kwargs)\u001b[0m\n",
      "\u001b[1;32m~\\anaconda3\\lib\\site-packages\\numpy\\linalg\\linalg.py\u001b[0m in \u001b[0;36minv\u001b[1;34m(a)\u001b[0m\n\u001b[0;32m    544\u001b[0m     \u001b[0msignature\u001b[0m \u001b[1;33m=\u001b[0m \u001b[1;34m'D->D'\u001b[0m \u001b[1;32mif\u001b[0m \u001b[0misComplexType\u001b[0m\u001b[1;33m(\u001b[0m\u001b[0mt\u001b[0m\u001b[1;33m)\u001b[0m \u001b[1;32melse\u001b[0m \u001b[1;34m'd->d'\u001b[0m\u001b[1;33m\u001b[0m\u001b[1;33m\u001b[0m\u001b[0m\n\u001b[0;32m    545\u001b[0m     \u001b[0mextobj\u001b[0m \u001b[1;33m=\u001b[0m \u001b[0mget_linalg_error_extobj\u001b[0m\u001b[1;33m(\u001b[0m\u001b[0m_raise_linalgerror_singular\u001b[0m\u001b[1;33m)\u001b[0m\u001b[1;33m\u001b[0m\u001b[1;33m\u001b[0m\u001b[0m\n\u001b[1;32m--> 546\u001b[1;33m     \u001b[0mainv\u001b[0m \u001b[1;33m=\u001b[0m \u001b[0m_umath_linalg\u001b[0m\u001b[1;33m.\u001b[0m\u001b[0minv\u001b[0m\u001b[1;33m(\u001b[0m\u001b[0ma\u001b[0m\u001b[1;33m,\u001b[0m \u001b[0msignature\u001b[0m\u001b[1;33m=\u001b[0m\u001b[0msignature\u001b[0m\u001b[1;33m,\u001b[0m \u001b[0mextobj\u001b[0m\u001b[1;33m=\u001b[0m\u001b[0mextobj\u001b[0m\u001b[1;33m)\u001b[0m\u001b[1;33m\u001b[0m\u001b[1;33m\u001b[0m\u001b[0m\n\u001b[0m\u001b[0;32m    547\u001b[0m     \u001b[1;32mreturn\u001b[0m \u001b[0mwrap\u001b[0m\u001b[1;33m(\u001b[0m\u001b[0mainv\u001b[0m\u001b[1;33m.\u001b[0m\u001b[0mastype\u001b[0m\u001b[1;33m(\u001b[0m\u001b[0mresult_t\u001b[0m\u001b[1;33m,\u001b[0m \u001b[0mcopy\u001b[0m\u001b[1;33m=\u001b[0m\u001b[1;32mFalse\u001b[0m\u001b[1;33m)\u001b[0m\u001b[1;33m)\u001b[0m\u001b[1;33m\u001b[0m\u001b[1;33m\u001b[0m\u001b[0m\n\u001b[0;32m    548\u001b[0m \u001b[1;33m\u001b[0m\u001b[0m\n",
      "\u001b[1;31mTypeError\u001b[0m: No loop matching the specified signature and casting was found for ufunc inv"
     ]
    }
   ],
   "source": [
    "betas = np.linalg.inv(X_normal.T.dot(X_normal)).dot(X_normal.T).dot(y_normal)"
   ]
  },
  {
   "cell_type": "code",
   "execution_count": 158,
   "metadata": {},
   "outputs": [
    {
     "name": "stdout",
     "output_type": "stream",
     "text": [
      "alpha: 3.5e-07\n",
      "0.12\n",
      "0.085\n",
      "0.11\n",
      "0.11\n",
      "0.077\n",
      "0.11\n",
      "0.077\n",
      "0.031\n",
      "0.11\n",
      "0.01\n",
      "0.12\n",
      "0.11\n",
      "-0.02\n",
      "0.0079\n",
      "0.017\n",
      "counter: 25331...\n",
      "alpha: 3.55e-07\n",
      "0.12\n",
      "0.085\n",
      "0.11\n",
      "0.11\n",
      "0.077\n",
      "0.11\n",
      "0.077\n",
      "0.031\n",
      "0.11\n",
      "0.0099\n",
      "0.12\n",
      "0.11\n",
      "-0.02\n",
      "0.008\n",
      "0.017\n",
      "counter: 25305...\n",
      "alpha: 3.6e-07\n",
      "0.13\n",
      "0.085\n",
      "0.11\n",
      "0.11\n",
      "0.078\n",
      "0.11\n",
      "0.077\n",
      "0.031\n",
      "0.11\n",
      "0.0096\n",
      "0.12\n",
      "0.11\n",
      "-0.02\n",
      "0.0081\n",
      "0.017\n",
      "counter: 25291...\n",
      "alpha: 3.65e-07\n",
      "0.13\n",
      "0.085\n",
      "0.12\n",
      "0.11\n",
      "0.078\n",
      "0.11\n",
      "0.077\n",
      "0.031\n",
      "0.11\n",
      "0.0094\n",
      "0.12\n",
      "0.11\n",
      "-0.02\n",
      "0.0082\n",
      "0.017\n",
      "counter: 25288...\n",
      "alpha: 3.7e-07\n",
      "0.13\n",
      "0.085\n",
      "0.12\n",
      "0.11\n",
      "0.078\n",
      "0.11\n",
      "0.077\n",
      "0.03\n",
      "0.11\n",
      "0.0091\n",
      "0.12\n",
      "0.11\n",
      "-0.02\n",
      "0.0083\n",
      "0.017\n",
      "counter: 25296...\n"
     ]
    }
   ],
   "source": [
    "alphas = np.arange(3.5e-7, 3.7e-7, 5e-9)\n",
    "\n",
    "# alpha = 3.65e-07\n",
    "#alphas = [0.00001, 0.00005, 0.00008]\n",
    "for alpha in alphas:\n",
    "    print(\"alpha: {}\" .format(alpha))\n",
    "    betas, counter = utils.gradient_descent(X_normal, y_normal, alpha)\n",
    "    for beta in betas:\n",
    "        print(\"{:.2}\" .format(beta))\n",
    "    print(\"counter: {}...\" .format(counter))"
   ]
  },
  {
   "cell_type": "code",
   "execution_count": null,
   "metadata": {},
   "outputs": [],
   "source": []
  },
  {
   "cell_type": "code",
   "execution_count": null,
   "metadata": {},
   "outputs": [],
   "source": []
  }
 ],
 "metadata": {
  "kernelspec": {
   "display_name": "Python 3",
   "language": "python",
   "name": "python3"
  },
  "language_info": {
   "codemirror_mode": {
    "name": "ipython",
    "version": 3
   },
   "file_extension": ".py",
   "mimetype": "text/x-python",
   "name": "python",
   "nbconvert_exporter": "python",
   "pygments_lexer": "ipython3",
   "version": "3.7.9"
  }
 },
 "nbformat": 4,
 "nbformat_minor": 4
}
